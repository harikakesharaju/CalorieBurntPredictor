{
 "cells": [
  {
   "cell_type": "code",
   "execution_count": 1,
   "id": "16c8b84f-00e8-42f5-a55e-69c287b5a8a4",
   "metadata": {},
   "outputs": [
    {
     "ename": "ModuleNotFoundError",
     "evalue": "No module named 'seaborn'",
     "output_type": "error",
     "traceback": [
      "\u001b[1;31m---------------------------------------------------------------------------\u001b[0m",
      "\u001b[1;31mModuleNotFoundError\u001b[0m                       Traceback (most recent call last)",
      "Cell \u001b[1;32mIn[1], line 3\u001b[0m\n\u001b[0;32m      1\u001b[0m \u001b[38;5;28;01mimport\u001b[39;00m \u001b[38;5;21;01mnumpy\u001b[39;00m \u001b[38;5;28;01mas\u001b[39;00m \u001b[38;5;21;01mnp\u001b[39;00m\n\u001b[0;32m      2\u001b[0m \u001b[38;5;28;01mimport\u001b[39;00m \u001b[38;5;21;01mpandas\u001b[39;00m \u001b[38;5;28;01mas\u001b[39;00m \u001b[38;5;21;01mpd\u001b[39;00m\n\u001b[1;32m----> 3\u001b[0m \u001b[38;5;28;01mimport\u001b[39;00m \u001b[38;5;21;01mseaborn\u001b[39;00m \u001b[38;5;28;01mas\u001b[39;00m \u001b[38;5;21;01msns\u001b[39;00m\n\u001b[0;32m      4\u001b[0m \u001b[38;5;28;01mimport\u001b[39;00m \u001b[38;5;21;01mmatplotlib\u001b[39;00m\u001b[38;5;21;01m.\u001b[39;00m\u001b[38;5;21;01mpyplot\u001b[39;00m \u001b[38;5;28;01mas\u001b[39;00m \u001b[38;5;21;01mplt\u001b[39;00m\n\u001b[0;32m      6\u001b[0m calories \u001b[38;5;241m=\u001b[39m pd\u001b[38;5;241m.\u001b[39mread_csv(\u001b[38;5;124m'\u001b[39m\u001b[38;5;124mcalories.csv\u001b[39m\u001b[38;5;124m'\u001b[39m)\n",
      "\u001b[1;31mModuleNotFoundError\u001b[0m: No module named 'seaborn'"
     ]
    }
   ],
   "source": []
  },
  {
   "cell_type": "code",
   "execution_count": 2,
   "id": "2efa91c9-809d-4b6c-9f81-49bc253ec99b",
   "metadata": {},
   "outputs": [
    {
     "name": "stdout",
     "output_type": "stream",
     "text": [
      "Collecting seaborn\n",
      "  Downloading seaborn-0.13.2-py3-none-any.whl.metadata (5.4 kB)\n",
      "Requirement already satisfied: numpy!=1.24.0,>=1.20 in c:\\users\\kesharaju himabindu\\appdata\\local\\programs\\python\\python312\\lib\\site-packages (from seaborn) (1.26.2)\n",
      "Requirement already satisfied: pandas>=1.2 in c:\\users\\kesharaju himabindu\\appdata\\local\\programs\\python\\python312\\lib\\site-packages (from seaborn) (2.1.3)\n",
      "Requirement already satisfied: matplotlib!=3.6.1,>=3.4 in c:\\users\\kesharaju himabindu\\appdata\\local\\programs\\python\\python312\\lib\\site-packages (from seaborn) (3.8.2)\n",
      "Requirement already satisfied: contourpy>=1.0.1 in c:\\users\\kesharaju himabindu\\appdata\\local\\programs\\python\\python312\\lib\\site-packages (from matplotlib!=3.6.1,>=3.4->seaborn) (1.2.0)\n",
      "Requirement already satisfied: cycler>=0.10 in c:\\users\\kesharaju himabindu\\appdata\\local\\programs\\python\\python312\\lib\\site-packages (from matplotlib!=3.6.1,>=3.4->seaborn) (0.12.1)\n",
      "Requirement already satisfied: fonttools>=4.22.0 in c:\\users\\kesharaju himabindu\\appdata\\local\\programs\\python\\python312\\lib\\site-packages (from matplotlib!=3.6.1,>=3.4->seaborn) (4.45.0)\n",
      "Requirement already satisfied: kiwisolver>=1.3.1 in c:\\users\\kesharaju himabindu\\appdata\\local\\programs\\python\\python312\\lib\\site-packages (from matplotlib!=3.6.1,>=3.4->seaborn) (1.4.5)\n",
      "Requirement already satisfied: packaging>=20.0 in c:\\users\\kesharaju himabindu\\appdata\\local\\programs\\python\\python312\\lib\\site-packages (from matplotlib!=3.6.1,>=3.4->seaborn) (23.2)\n",
      "Requirement already satisfied: pillow>=8 in c:\\users\\kesharaju himabindu\\appdata\\local\\programs\\python\\python312\\lib\\site-packages (from matplotlib!=3.6.1,>=3.4->seaborn) (10.1.0)\n",
      "Requirement already satisfied: pyparsing>=2.3.1 in c:\\users\\kesharaju himabindu\\appdata\\local\\programs\\python\\python312\\lib\\site-packages (from matplotlib!=3.6.1,>=3.4->seaborn) (3.1.1)\n",
      "Requirement already satisfied: python-dateutil>=2.7 in c:\\users\\kesharaju himabindu\\appdata\\local\\programs\\python\\python312\\lib\\site-packages (from matplotlib!=3.6.1,>=3.4->seaborn) (2.8.2)\n",
      "Requirement already satisfied: pytz>=2020.1 in c:\\users\\kesharaju himabindu\\appdata\\local\\programs\\python\\python312\\lib\\site-packages (from pandas>=1.2->seaborn) (2023.3.post1)\n",
      "Requirement already satisfied: tzdata>=2022.1 in c:\\users\\kesharaju himabindu\\appdata\\local\\programs\\python\\python312\\lib\\site-packages (from pandas>=1.2->seaborn) (2023.3)\n",
      "Requirement already satisfied: six>=1.5 in c:\\users\\kesharaju himabindu\\appdata\\local\\programs\\python\\python312\\lib\\site-packages (from python-dateutil>=2.7->matplotlib!=3.6.1,>=3.4->seaborn) (1.16.0)\n",
      "Downloading seaborn-0.13.2-py3-none-any.whl (294 kB)\n",
      "   ---------------------------------------- 0.0/294.9 kB ? eta -:--:--\n",
      "   --------- ------------------------------ 71.7/294.9 kB 1.3 MB/s eta 0:00:01\n",
      "   -------------------------------------- - 286.7/294.9 kB 3.5 MB/s eta 0:00:01\n",
      "   ---------------------------------------- 294.9/294.9 kB 2.6 MB/s eta 0:00:00\n",
      "Installing collected packages: seaborn\n",
      "Successfully installed seaborn-0.13.2\n",
      "Note: you may need to restart the kernel to use updated packages.\n"
     ]
    },
    {
     "name": "stderr",
     "output_type": "stream",
     "text": [
      "\n",
      "[notice] A new release of pip is available: 23.3.1 -> 24.2\n",
      "[notice] To update, run: C:\\Users\\kesharaju himabindu\\AppData\\Local\\Programs\\Python\\Python312\\python.exe -m pip install --upgrade pip\n"
     ]
    }
   ],
   "source": [
    "pip install seaborn"
   ]
  },
  {
   "cell_type": "code",
   "execution_count": 1,
   "id": "ddcc2a54-5bdd-493a-8156-1eb1705fb476",
   "metadata": {},
   "outputs": [
    {
     "name": "stdout",
     "output_type": "stream",
     "text": [
      "lr  MSE: 131.99574575081698, Score: 0.9672937151257295\n",
      "rd  MSE: 131.99625903139344, Score: 0.9672935879435945\n",
      "ls  MSE: 143.82689461175062, Score: 0.9643621590908397\n",
      "dtr  MSE: 27.989, Score: 0.993064805216722\n",
      "rfr  MSE: 6.929735833333332, Score: 0.9982829301582469\n"
     ]
    },
    {
     "data": {
      "image/png": "[encoded data removed]",
      "text/plain": [
       "<Figure size 640x480 with 1 Axes>"
      ]
     },
     "metadata": {},
     "output_type": "display_data"
    }
   ],
   "source": [
    "import numpy as np\n",
    "import pandas as pd\n",
    "import seaborn as sns\n",
    "import matplotlib.pyplot as plt\n",
    "\n",
    "calories = pd.read_csv('calories.csv')\n",
    "exercise = pd.read_csv('exercise.csv')\n",
    "\n",
    "df = exercise.merge(calories, on='User_ID')\n",
    "\n",
    "# Bivariate and Multivariate Analysis\n",
    "\n",
    "# Bar Plot (Numerical - Categorical)\n",
    "sns.barplot(x='Gender', y='Calories', data=df)\n",
    "\n",
    "# Boxplot (numerical to categorical)\n",
    "# sns.boxplot(df['Gender'], df['Age'])\n",
    "\n",
    "# Distplot (Numerical - Categorical)\n",
    "# sns.distplot(df[df['Gender']=='Male']['Age'])\n",
    "\n",
    "# Lineplot (Numerical - Numerical)\n",
    "# sns.lineplot(df['Age'], df['Calories'])\n",
    "\n",
    "# Encoding\n",
    "df['Gender'] = df['Gender'].map({'male': 1, 'female': 0})\n",
    "\n",
    "# Train test split\n",
    "X = df.drop(['User_ID', 'Calories'], axis=1)\n",
    "y = df['Calories']\n",
    "\n",
    "from sklearn.model_selection import train_test_split\n",
    "\n",
    "X_train, X_test, y_train, y_test = train_test_split(X, y, test_size=0.2, random_state=42)\n",
    "\n",
    "# Training Model\n",
    "from sklearn.linear_model import LinearRegression, Ridge, Lasso\n",
    "from sklearn.tree import DecisionTreeRegressor\n",
    "from sklearn.ensemble import RandomForestRegressor\n",
    "from sklearn.metrics import r2_score, mean_squared_error\n",
    "\n",
    "models = {\n",
    "    'lr': LinearRegression(),\n",
    "    'rd': Ridge(),\n",
    "    'ls': Lasso(),\n",
    "    'dtr': DecisionTreeRegressor(),\n",
    "    'rfr': RandomForestRegressor()\n",
    "}\n",
    "\n",
    "for name, mod in models.items():\n",
    "    mod.fit(X_train, y_train)\n",
    "    y_pred = mod.predict(X_test)\n",
    "\n",
    "    print(f\"{name}  MSE: {mean_squared_error(y_test, y_pred)}, Score: {r2_score(y_test, y_pred)}\")\n",
    "\n",
    "rfr = RandomForestRegressor()\n",
    "rfr.fit(X_train, y_train)\n",
    "y_pred = rfr.predict(X_test)\n",
    "\n",
    "import pickle\n",
    "\n",
    "pickle.dump(rfr, open('rfr.pkl', 'wb'))\n",
    "X_train.to_csv('X_train.csv')"
   ]
  },
  {
   "cell_type": "code",
   "execution_count": 3,
   "id": "8336999a-f29b-483f-b742-d5768e8eee27",
   "metadata": {},
   "outputs": [
    {
     "name": "stdout",
     "output_type": "stream",
     "text": [
      "lr MSE: 131.99574575081698, Score: 0.9672937151257295\n",
      "rd MSE: 131.99625903139344, Score: 0.9672935879435945\n",
      "ls MSE: 143.82689461175062, Score: 0.9643621590908397\n",
      "dtr MSE: 27.635666666666665, Score: 0.9931523551645619\n",
      "rfr MSE: 6.995552833333333, Score: 0.9982666218330102\n",
      "Loaded model MSE: 7.145431833333333, Score: 0.9982294843840508\n"
     ]
    },
    {
     "data": {
      "image/png": "[encoded data removed]",
      "text/plain": [
       "<Figure size 640x480 with 1 Axes>"
      ]
     },
     "metadata": {},
     "output_type": "display_data"
    }
   ],
   "source": [
    "import numpy as np\n",
    "import pandas as pd\n",
    "import seaborn as sns\n",
    "import matplotlib.pyplot as plt\n",
    "import pickle\n",
    "from sklearn.model_selection import train_test_split\n",
    "from sklearn.linear_model import LinearRegression, Ridge, Lasso\n",
    "from sklearn.tree import DecisionTreeRegressor\n",
    "from sklearn.ensemble import RandomForestRegressor\n",
    "from sklearn.metrics import r2_score, mean_squared_error\n",
    "\n",
    "# Load data\n",
    "calories = pd.read_csv('calories.csv')\n",
    "exercise = pd.read_csv('exercise.csv')\n",
    "\n",
    "# Merge datasets\n",
    "df = exercise.merge(calories, on='User_ID')\n",
    "\n",
    "# Bivariate and Multivariate Analysis\n",
    "sns.barplot(x='Gender', y='Calories', data=df)\n",
    "# Additional plots as needed\n",
    "\n",
    "# Encoding categorical variable\n",
    "df['Gender'] = df['Gender'].map({'male': 1, 'female': 0})\n",
    "\n",
    "# Train-test split\n",
    "X = df.drop(['User_ID', 'Calories'], axis=1)\n",
    "y = df['Calories']\n",
    "X_train, X_test, y_train, y_test = train_test_split(X, y, test_size=0.2, random_state=42)\n",
    "\n",
    "# Training models\n",
    "models = {\n",
    "    'lr': LinearRegression(),\n",
    "    'rd': Ridge(),\n",
    "    'ls': Lasso(),\n",
    "    'dtr': DecisionTreeRegressor(),\n",
    "    'rfr': RandomForestRegressor()\n",
    "}\n",
    "\n",
    "for name, mod in models.items():\n",
    "    mod.fit(X_train, y_train)\n",
    "    y_pred = mod.predict(X_test)\n",
    "    print(f\"{name} MSE: {mean_squared_error(y_test, y_pred)}, Score: {r2_score(y_test, y_pred)}\")\n",
    "\n",
    "# Save RandomForestRegressor model\n",
    "rfr = RandomForestRegressor()\n",
    "rfr.fit(X_train, y_train)\n",
    "with open('rfr.pkl', 'wb') as file:\n",
    "    pickle.dump(rfr, file)\n",
    "\n",
    "# Load and use the saved model\n",
    "with open('rfr.pkl', 'rb') as file:\n",
    "    loaded_rfr = pickle.load(file)\n",
    "y_pred_loaded = loaded_rfr.predict(X_test)\n",
    "print(f\"Loaded model MSE: {mean_squared_error(y_test, y_pred_loaded)}, Score: {r2_score(y_test, y_pred_loaded)}\")\n",
    "\n",
    "# Save training data to CSV\n",
    "X_train.to_csv('X_train.csv', index=False)\n"
   ]
  },
  {
   "cell_type": "code",
   "execution_count": null,
   "id": "6f80760d-a3d0-4fb7-97bf-df87be3bceeb",
   "metadata": {},
   "outputs": [],
   "source": []
  }
 ],
 "metadata": {
  "kernelspec": {
   "display_name": "Python 3 (ipykernel)",
   "language": "python",
   "name": "python3"
  },
  "language_info": {
   "codemirror_mode": {
    "name": "ipython",
    "version": 3
   },
   "file_extension": ".py",
   "mimetype": "text/x-python",
   "name": "python",
   "nbconvert_exporter": "python",
   "pygments_lexer": "ipython3",
   "version": "3.12.0"
  }
 },
 "nbformat": 4,
 "nbformat_minor": 5
}
